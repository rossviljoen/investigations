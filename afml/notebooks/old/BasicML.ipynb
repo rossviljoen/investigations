{
 "cells": [
  {
   "cell_type": "code",
   "execution_count": 1,
   "metadata": {},
   "outputs": [],
   "source": [
    "%matplotlib inline \n",
    "import math\n",
    "import time\n",
    "import sys\n",
    "from datetime import datetime\n",
    "import numpy as np # numerical computation packages in python\n",
    "import matplotlib.pyplot as plt # plotting routines\n",
    "import pandas as pd\n",
    "import multiprocessing as mp\n",
    "\n",
    "from statsmodels.tsa.stattools import adfuller\n",
    "from joblib import dump, load\n",
    "from sklearn import svm"
   ]
  },
  {
   "cell_type": "code",
   "execution_count": 2,
   "metadata": {},
   "outputs": [],
   "source": [
    "candles1Yr = pd.read_csv('../data/candles_BTC_USDT_12mo.csv', sep=';', index_col=0, parse_dates=True)\n",
    "candlesSmall = candles1Yr.tail(math.floor(candles1Yr.shape[0] * 0.05))"
   ]
  },
  {
   "cell_type": "code",
   "execution_count": 3,
   "metadata": {},
   "outputs": [
    {
     "data": {
      "text/plain": [
       "<matplotlib.axes._subplots.AxesSubplot at 0x7f00f49fa610>"
      ]
     },
     "execution_count": 3,
     "metadata": {},
     "output_type": "execute_result"
    },
    {
     "data": {
      "image/png": "[encoded data removed]",
      "text/plain": [
       "<Figure size 432x288 with 1 Axes>"
      ]
     },
     "metadata": {
      "needs_background": "light"
     },
     "output_type": "display_data"
    }
   ],
   "source": [
    "candles1Yr.close.plot()"
   ]
  },
  {
   "cell_type": "code",
   "execution_count": 4,
   "metadata": {},
   "outputs": [
    {
     "data": {
      "text/html": [
       "<div>\n",
       "<style scoped>\n",
       "    .dataframe tbody tr th:only-of-type {\n",
       "        vertical-align: middle;\n",
       "    }\n",
       "\n",
       "    .dataframe tbody tr th {\n",
       "        vertical-align: top;\n",
       "    }\n",
       "\n",
       "    .dataframe thead th {\n",
       "        text-align: right;\n",
       "    }\n",
       "</style>\n",
       "<table border=\"1\" class=\"dataframe\">\n",
       "  <thead>\n",
       "    <tr style=\"text-align: right;\">\n",
       "      <th></th>\n",
       "      <th>open</th>\n",
       "      <th>high</th>\n",
       "      <th>low</th>\n",
       "      <th>close</th>\n",
       "      <th>volume</th>\n",
       "      <th>count</th>\n",
       "      <th>buy_volume</th>\n",
       "      <th>buy_count</th>\n",
       "      <th>sell_volume</th>\n",
       "      <th>sell_count</th>\n",
       "      <th>last_updated</th>\n",
       "    </tr>\n",
       "    <tr>\n",
       "      <th>time_reference</th>\n",
       "      <th></th>\n",
       "      <th></th>\n",
       "      <th></th>\n",
       "      <th></th>\n",
       "      <th></th>\n",
       "      <th></th>\n",
       "      <th></th>\n",
       "      <th></th>\n",
       "      <th></th>\n",
       "      <th></th>\n",
       "      <th></th>\n",
       "    </tr>\n",
       "  </thead>\n",
       "  <tbody>\n",
       "    <tr>\n",
       "      <td>2018-11-06 00:00:00</td>\n",
       "      <td>6467.0947</td>\n",
       "      <td>6467.0976</td>\n",
       "      <td>6465.4643</td>\n",
       "      <td>6467.0954</td>\n",
       "      <td>0.405219</td>\n",
       "      <td>20</td>\n",
       "      <td>0.056455</td>\n",
       "      <td>8</td>\n",
       "      <td>0.348764</td>\n",
       "      <td>12</td>\n",
       "      <td>2019-03-26 11:00:26</td>\n",
       "    </tr>\n",
       "    <tr>\n",
       "      <td>2018-11-06 00:00:30</td>\n",
       "      <td>6467.0951</td>\n",
       "      <td>6467.3660</td>\n",
       "      <td>6465.3297</td>\n",
       "      <td>6467.3660</td>\n",
       "      <td>4.879489</td>\n",
       "      <td>24</td>\n",
       "      <td>4.738119</td>\n",
       "      <td>18</td>\n",
       "      <td>0.141370</td>\n",
       "      <td>6</td>\n",
       "      <td>2019-03-26 11:01:36</td>\n",
       "    </tr>\n",
       "    <tr>\n",
       "      <td>2018-11-06 00:01:00</td>\n",
       "      <td>6465.5125</td>\n",
       "      <td>6469.7385</td>\n",
       "      <td>6465.3278</td>\n",
       "      <td>6469.7385</td>\n",
       "      <td>3.045948</td>\n",
       "      <td>47</td>\n",
       "      <td>2.845258</td>\n",
       "      <td>33</td>\n",
       "      <td>0.200690</td>\n",
       "      <td>14</td>\n",
       "      <td>2019-03-26 10:59:43</td>\n",
       "    </tr>\n",
       "    <tr>\n",
       "      <td>2018-11-06 00:01:30</td>\n",
       "      <td>6468.3192</td>\n",
       "      <td>6471.6717</td>\n",
       "      <td>6468.0478</td>\n",
       "      <td>6470.1423</td>\n",
       "      <td>4.270529</td>\n",
       "      <td>102</td>\n",
       "      <td>1.078911</td>\n",
       "      <td>35</td>\n",
       "      <td>3.191618</td>\n",
       "      <td>67</td>\n",
       "      <td>2019-03-26 11:00:19</td>\n",
       "    </tr>\n",
       "    <tr>\n",
       "      <td>2018-11-06 00:02:00</td>\n",
       "      <td>6469.8302</td>\n",
       "      <td>6470.7214</td>\n",
       "      <td>6468.1362</td>\n",
       "      <td>6468.1373</td>\n",
       "      <td>6.888927</td>\n",
       "      <td>58</td>\n",
       "      <td>0.397990</td>\n",
       "      <td>15</td>\n",
       "      <td>6.490937</td>\n",
       "      <td>43</td>\n",
       "      <td>2019-03-26 11:00:45</td>\n",
       "    </tr>\n",
       "    <tr>\n",
       "      <td>...</td>\n",
       "      <td>...</td>\n",
       "      <td>...</td>\n",
       "      <td>...</td>\n",
       "      <td>...</td>\n",
       "      <td>...</td>\n",
       "      <td>...</td>\n",
       "      <td>...</td>\n",
       "      <td>...</td>\n",
       "      <td>...</td>\n",
       "      <td>...</td>\n",
       "      <td>...</td>\n",
       "    </tr>\n",
       "    <tr>\n",
       "      <td>2019-11-05 23:57:30</td>\n",
       "      <td>9305.3000</td>\n",
       "      <td>9305.3000</td>\n",
       "      <td>9302.6000</td>\n",
       "      <td>9302.6000</td>\n",
       "      <td>0.163570</td>\n",
       "      <td>5</td>\n",
       "      <td>0.000000</td>\n",
       "      <td>0</td>\n",
       "      <td>0.163570</td>\n",
       "      <td>5</td>\n",
       "      <td>2019-11-05 23:58:06</td>\n",
       "    </tr>\n",
       "    <tr>\n",
       "      <td>2019-11-05 23:58:00</td>\n",
       "      <td>9305.0000</td>\n",
       "      <td>9305.0000</td>\n",
       "      <td>9292.6000</td>\n",
       "      <td>9292.9000</td>\n",
       "      <td>6.714134</td>\n",
       "      <td>125</td>\n",
       "      <td>0.941656</td>\n",
       "      <td>40</td>\n",
       "      <td>5.772477</td>\n",
       "      <td>85</td>\n",
       "      <td>2019-11-05 23:58:30</td>\n",
       "    </tr>\n",
       "    <tr>\n",
       "      <td>2019-11-05 23:58:30</td>\n",
       "      <td>9292.9000</td>\n",
       "      <td>9295.4000</td>\n",
       "      <td>9292.9000</td>\n",
       "      <td>9293.7000</td>\n",
       "      <td>1.128454</td>\n",
       "      <td>27</td>\n",
       "      <td>0.988972</td>\n",
       "      <td>22</td>\n",
       "      <td>0.139482</td>\n",
       "      <td>5</td>\n",
       "      <td>2019-11-05 23:59:16</td>\n",
       "    </tr>\n",
       "    <tr>\n",
       "      <td>2019-11-05 23:59:00</td>\n",
       "      <td>9293.8000</td>\n",
       "      <td>9298.7000</td>\n",
       "      <td>9293.8000</td>\n",
       "      <td>9298.7000</td>\n",
       "      <td>11.100712</td>\n",
       "      <td>63</td>\n",
       "      <td>10.943514</td>\n",
       "      <td>59</td>\n",
       "      <td>0.157198</td>\n",
       "      <td>4</td>\n",
       "      <td>2019-11-05 23:59:49</td>\n",
       "    </tr>\n",
       "    <tr>\n",
       "      <td>2019-11-05 23:59:30</td>\n",
       "      <td>9297.3000</td>\n",
       "      <td>9309.5000</td>\n",
       "      <td>9297.3000</td>\n",
       "      <td>9304.2000</td>\n",
       "      <td>37.299728</td>\n",
       "      <td>173</td>\n",
       "      <td>31.561122</td>\n",
       "      <td>139</td>\n",
       "      <td>5.738606</td>\n",
       "      <td>34</td>\n",
       "      <td>2019-11-06 00:00:01</td>\n",
       "    </tr>\n",
       "  </tbody>\n",
       "</table>\n",
       "<p>1049393 rows × 11 columns</p>\n",
       "</div>"
      ],
      "text/plain": [
       "                          open       high        low      close     volume  \\\n",
       "time_reference                                                               \n",
       "2018-11-06 00:00:00  6467.0947  6467.0976  6465.4643  6467.0954   0.405219   \n",
       "2018-11-06 00:00:30  6467.0951  6467.3660  6465.3297  6467.3660   4.879489   \n",
       "2018-11-06 00:01:00  6465.5125  6469.7385  6465.3278  6469.7385   3.045948   \n",
       "2018-11-06 00:01:30  6468.3192  6471.6717  6468.0478  6470.1423   4.270529   \n",
       "2018-11-06 00:02:00  6469.8302  6470.7214  6468.1362  6468.1373   6.888927   \n",
       "...                        ...        ...        ...        ...        ...   \n",
       "2019-11-05 23:57:30  9305.3000  9305.3000  9302.6000  9302.6000   0.163570   \n",
       "2019-11-05 23:58:00  9305.0000  9305.0000  9292.6000  9292.9000   6.714134   \n",
       "2019-11-05 23:58:30  9292.9000  9295.4000  9292.9000  9293.7000   1.128454   \n",
       "2019-11-05 23:59:00  9293.8000  9298.7000  9293.8000  9298.7000  11.100712   \n",
       "2019-11-05 23:59:30  9297.3000  9309.5000  9297.3000  9304.2000  37.299728   \n",
       "\n",
       "                     count  buy_volume  buy_count  sell_volume  sell_count  \\\n",
       "time_reference                                                               \n",
       "2018-11-06 00:00:00     20    0.056455          8     0.348764          12   \n",
       "2018-11-06 00:00:30     24    4.738119         18     0.141370           6   \n",
       "2018-11-06 00:01:00     47    2.845258         33     0.200690          14   \n",
       "2018-11-06 00:01:30    102    1.078911         35     3.191618          67   \n",
       "2018-11-06 00:02:00     58    0.397990         15     6.490937          43   \n",
       "...                    ...         ...        ...          ...         ...   \n",
       "2019-11-05 23:57:30      5    0.000000          0     0.163570           5   \n",
       "2019-11-05 23:58:00    125    0.941656         40     5.772477          85   \n",
       "2019-11-05 23:58:30     27    0.988972         22     0.139482           5   \n",
       "2019-11-05 23:59:00     63   10.943514         59     0.157198           4   \n",
       "2019-11-05 23:59:30    173   31.561122        139     5.738606          34   \n",
       "\n",
       "                            last_updated  \n",
       "time_reference                            \n",
       "2018-11-06 00:00:00  2019-03-26 11:00:26  \n",
       "2018-11-06 00:00:30  2019-03-26 11:01:36  \n",
       "2018-11-06 00:01:00  2019-03-26 10:59:43  \n",
       "2018-11-06 00:01:30  2019-03-26 11:00:19  \n",
       "2018-11-06 00:02:00  2019-03-26 11:00:45  \n",
       "...                                  ...  \n",
       "2019-11-05 23:57:30  2019-11-05 23:58:06  \n",
       "2019-11-05 23:58:00  2019-11-05 23:58:30  \n",
       "2019-11-05 23:58:30  2019-11-05 23:59:16  \n",
       "2019-11-05 23:59:00  2019-11-05 23:59:49  \n",
       "2019-11-05 23:59:30  2019-11-06 00:00:01  \n",
       "\n",
       "[1049393 rows x 11 columns]"
      ]
     },
     "execution_count": 4,
     "metadata": {},
     "output_type": "execute_result"
    }
   ],
   "source": [
    "candles1Yr"
   ]
  },
  {
   "cell_type": "markdown",
   "metadata": {},
   "source": [
    "## Chapter 2: Data Structures\n",
    "CUSUM filtering of price data"
   ]
  },
  {
   "cell_type": "code",
   "execution_count": 5,
   "metadata": {},
   "outputs": [],
   "source": [
    "def getTEvents(gRaw,h):\n",
    "    tEvents,sPos,sNeg = [],0,0\n",
    "    diff = gRaw.diff()\n",
    "    for i in diff.index[1:]:\n",
    "        sPos,sNeg = max(0,sPos+diff.loc[i]),min(0,sNeg+diff.loc[i])\n",
    "        if sNeg<-h:\n",
    "            sNeg = 0;tEvents.append(i)\n",
    "        elif sPos>h:\n",
    "            sPos = 0;tEvents.append(i)\n",
    "    return pd.DatetimeIndex(tEvents)"
   ]
  },
  {
   "cell_type": "markdown",
   "metadata": {},
   "source": [
    "## Chapter 20: Multiprocessing "
   ]
  },
  {
   "cell_type": "code",
   "execution_count": 6,
   "metadata": {},
   "outputs": [],
   "source": [
    "## Multiprocessing stuff, used for triple-barrier.\n",
    "\n",
    "def linParts(numAtoms,numThreads):\n",
    "    # partition of atoms with a single loop\n",
    "    parts = np.linspace(0,numAtoms,min(numThreads,numAtoms)+1)\n",
    "    parts = np.ceil(parts).astype(int)\n",
    "    return parts\n",
    "\n",
    "def nestedParts(numAtoms,numThreads,upperTriang = False):\n",
    "    # partition of atoms with an inner loop\n",
    "    parts,numThreads_ = [0],min(numThreads,numAtoms)\n",
    "    for num in xrange(numThreads_):\n",
    "        part = 1 + 4*(parts[-1]**2+parts[-1]+numAtoms*(numAtoms+1.)/numThreads_)\n",
    "        part = (-1+part**.5)/2.\n",
    "        parts.append(part)\n",
    "    parts = np.round(parts).astype(int)\n",
    "    if upperTriang: # the first rows are the heaviest\n",
    "        parts = np.cumsum(np.diff(parts)[::-1])\n",
    "        parts = np.append(np.array([0]),parts)\n",
    "    return parts\n",
    "\n",
    "def processJobs_(jobs):\n",
    "    # Run jobs sequentially, for debugging\n",
    "    out = []\n",
    "    for job in jobs:\n",
    "        out_ = expandCall(job)\n",
    "        out.append(out_)\n",
    "    return out\n",
    "\n",
    "#———————————————————————————————————————\n",
    "def reportProgress(jobNum,numJobs,time0,task):\n",
    "    # Report progress as asynch jobs are completed\n",
    "    msg = [float(jobNum)/numJobs,(time.time()-time0)/60.]\n",
    "    msg.append(msg[1]*(1/msg[0]-1))\n",
    "    timeStamp = str(datetime.fromtimestamp(time.time()))\n",
    "    msg = timeStamp+' '+str(round(msg[0]*100,2))+'% '+task+' done after '+ \\\n",
    "        str(round(msg[1],2))+' minutes. Remaining '+str(round(msg[2],2))+' minutes.'\n",
    "    if jobNum<numJobs:sys.stderr.write(msg+' \\ r')\n",
    "    else:sys.stderr.write(msg+' \\ n')\n",
    "    return\n",
    "#———————————————————————————————————————\n",
    "def processJobs(jobs,task = None,numThreads = 24):\n",
    "    # Run in parallel.\n",
    "    # jobs must contain a ’func’ callback, for expandCall\n",
    "    if task is None:task = jobs[0]['func'].__name__\n",
    "    pool = mp.Pool(processes = numThreads)\n",
    "    outputs,out,time0 = pool.imap_unordered(expandCall,jobs),[], time.time()\n",
    "    # Process asynchronous output, report progress\n",
    "    for i,out_ in enumerate(outputs,1):\n",
    "        out.append(out_)\n",
    "        reportProgress(i,len(jobs),time0,task)\n",
    "    pool.close();pool.join() # this is needed to prevent memory leaks\n",
    "    return out\n",
    "\n",
    "def expandCall(kargs):\n",
    "    # Expand the arguments of a callback function, kargs[’func’]\n",
    "    func = kargs['func']\n",
    "    del kargs['func']\n",
    "    out = func( ** kargs)\n",
    "    return out\n",
    "\n",
    "def mpPandasObj(func,pdObj,numThreads = 24,mpBatches = 1,linMols = True,**kargs):\n",
    "    '''\n",
    "    Parallelize jobs, return a DataFrame or Series\n",
    "    + func: function to be parallelized. Returns a DataFrame\n",
    "    + pdObj[0]: Name of argument used to pass the molecule\n",
    "    + pdObj[1]: List of atoms that will be grouped into molecules\n",
    "    + kargs: any other argument needed by func\n",
    "    Example: df1 = mpPandasObj(func,(’molecule’,df0.index),24,**kargs)\n",
    "    '''\n",
    "    if linMols:\n",
    "        parts = linParts(len(pdObj[1]),numThreads*mpBatches)\n",
    "    else:\n",
    "        parts = nestedParts(len(pdObj[1]),numThreads*mpBatches)\n",
    "    jobs = []\n",
    "    for i in range(1,len(parts)):\n",
    "        job = { pdObj[0]:pdObj[1][parts[i-1]:parts[i]],'func':func }\n",
    "        job.update(kargs)\n",
    "        jobs.append(job)\n",
    "    if numThreads == 1:\n",
    "        out = processJobs_(jobs)\n",
    "    else:\n",
    "        out = processJobs(jobs,numThreads = numThreads)\n",
    "    if isinstance(out[0],pd.DataFrame):\n",
    "        df0 = pd.DataFrame()\n",
    "    elif isinstance(out[0],pd.Series):\n",
    "        df0 = pd.Series()\n",
    "    else:\n",
    "        return out\n",
    "    for i in out:\n",
    "        df0 = df0.append(i)\n",
    "    df0 = df0.sort_index()\n",
    "    return df0"
   ]
  },
  {
   "cell_type": "markdown",
   "metadata": {},
   "source": [
    "# Chapter 3: Labelling\n",
    "Triple-barrier method"
   ]
  },
  {
   "cell_type": "code",
   "execution_count": 7,
   "metadata": {},
   "outputs": [],
   "source": [
    "def applyPtSlOnT1(close,events,ptSl,molecule):\n",
    "    # apply stop loss/profit taking, if it takes place before t1 (end of event)\n",
    "    events_ = events.loc[molecule]\n",
    "    out = events_[['t1']].copy(deep = True)\n",
    "    if ptSl[0]>0:\n",
    "        pt = ptSl[0]*events_['trgt']\n",
    "    else:\n",
    "        pt = pd.Series(index = events.index) # NaNs\n",
    "    if ptSl[1]>0:\n",
    "        sl = -ptSl[1]*events_['trgt']\n",
    "    else:\n",
    "        sl = pd.Series(index = events.index) # NaNs\n",
    "        \n",
    "    for loc,t1 in events_['t1'].fillna(close.index[-1]).iteritems():\n",
    "        df0 = close[loc:t1] # path prices\n",
    "        df0 = (df0/close[loc]-1)*events_.at[loc,'side'] # path returns\n",
    "        out.loc[loc,'sl'] = df0[df0<sl[loc]].index.min() # earliest stop loss.\n",
    "        out.loc[loc,'pt'] = df0[df0>pt[loc]].index.min() # earliest profit taking.\n",
    "        \n",
    "    return out\n",
    "\n",
    "## An example vertical barrier (to pass to getEvents)\n",
    "#t1 = close.index.searchsorted(tEvents+pd.Timedelta(days = numDays))\n",
    "#t1 = t1[t1<close.shape[0]]\n",
    "#t1 = pd.Series(close.index[t1],index = tEvents[:t1.shape[0]]) # NaNs at end\n",
    "\n",
    "\n",
    "## Find time of first touch (of any of the three barriers)\n",
    "# parameters:\n",
    "# close = price series\n",
    "# tEvents = timeindex containing the timestamps selected by sampling (eg. CUSUM)\n",
    "# ptSl = a single non-negative float to set width of both barriers\n",
    "# t1 = timestamps of vertical barriers (False if vert. barriers should be disabled)\n",
    "# trgt = pandas series of target absolute returns\n",
    "# minRet = minimum target return to run a triple barrier search\n",
    "# numThreads = number of threads for the function to use\n",
    "def getEvents(close, tEvents, ptSl, trgt, minRet, numThreads, t1 = False):\n",
    "    #1) get target\n",
    "    trgt = trgt.loc[tEvents]\n",
    "    trgt = trgt[trgt>minRet] # minRet\n",
    "    \n",
    "    #2) get t1 (max holding period)\n",
    "    if t1 is False:\n",
    "        t1 = pd.Series(pd.NaT,index = tEvents)\n",
    "        \n",
    "    #3) form events object, apply stop loss on t1\n",
    "    side_ = pd.Series(1.,index = trgt.index)\n",
    "    events = pd.concat( { 't1':t1, 'trgt':trgt, 'side':side_ } , \\\n",
    "    axis = 1).dropna(subset = ['trgt'])\n",
    "    df0 = mpPandasObj(func = applyPtSlOnT1, pdObj = ('molecule',events.index), \\\n",
    "    numThreads = numThreads, close = close, events = events, ptSl = [ptSl,ptSl])\n",
    "    events['t1'] = df0.dropna(how = 'all').min(axis = 1) # pd.min ignores nan\n",
    "    events = events.drop('side', axis = 1)\n",
    "    return events\n",
    "\n",
    "## Label observations found with getEvents\n",
    "# returns: a dataframe with two columns\n",
    "# ret: The return realized at the time of the first touched barrier.\n",
    "# bin: The label, {−1, 0, 1}, as a function of the sign of the outcome.\n",
    "def getBins(events, close):\n",
    "    #1) prices aligned with events\n",
    "    events_ = events.dropna(subset = ['t1'])\n",
    "    px = events_.index.union(events_['t1'].values).drop_duplicates()\n",
    "    px = close.reindex(px,method = 'bfill')\n",
    "    \n",
    "    #2) create out object\n",
    "    out = pd.DataFrame(index = events_.index)\n",
    "    out['ret'] = px.loc[events_['t1'].values].values/px.loc[events_.index]-1\n",
    "    out['bin'] = np.sign(out['ret'])\n",
    "    return out"
   ]
  },
  {
   "cell_type": "markdown",
   "metadata": {},
   "source": [
    "## Chapter 5: Fractionally differentiated features"
   ]
  },
  {
   "cell_type": "code",
   "execution_count": 8,
   "metadata": {},
   "outputs": [],
   "source": [
    "def get_weights_ffd(diff_amt, thresh, lim):\n",
    "    \"\"\"\n",
    "    Source: Chapter 5, AFML (section 5.4.2, page 83)\n",
    "    The helper function generates weights that are used to compute fractionally\n",
    "    differentiate dseries. It computes the weights that get used in the computation\n",
    "    of fractionally differentiated series. The series is of fixed width and same\n",
    "    weights (generated by this function) can be used when creating fractional\n",
    "    differentiated series.\n",
    "    This makes the process more efficient. But the side-effect is that the\n",
    "    fractionally differentiated series is skewed and has excess kurtosis. In\n",
    "    other words, it is not Gaussian any more.\n",
    "    The discussion of positive and negative d is similar to that in get_weights\n",
    "    (see the function get_weights)\n",
    "    :param diff_amt: (float) differencing amount\n",
    "    :param thresh: (float) threshold for minimum weight\n",
    "    :param lim: (int) maximum length of the weight vector\n",
    "    :return: (ndarray) weight vector\n",
    "    \"\"\"\n",
    "\n",
    "    weights = [1.]\n",
    "    k = 1\n",
    "\n",
    "    # The algorithm below executes the iterativetive estimation (section 5.4.2, page 78)\n",
    "    # The output weights array is of the indicated length (specified by lim)\n",
    "    ctr = 0\n",
    "    while True:\n",
    "        # compute the next weight\n",
    "        weights_ = -weights[-1] * (diff_amt - k + 1) / k\n",
    "\n",
    "        if abs(weights_) < thresh:\n",
    "            break\n",
    "\n",
    "        weights.append(weights_)\n",
    "        k += 1\n",
    "        ctr += 1\n",
    "        if ctr == lim - 1:  # if we have reached the size limit, exit the loop\n",
    "            break\n",
    "\n",
    "    # Now, reverse the list, convert into a numpy column vector\n",
    "    weights = np.array(weights[::-1]).reshape(-1, 1)\n",
    "    return weights\n",
    "\n",
    "def frac_diff_ffd(series, diff_amt, thresh=1e-5):\n",
    "    \"\"\"\n",
    "    Source: Chapter 5, AFML (section 5.5, page 83);\n",
    "    References:\n",
    "    https://www.wiley.com/en-us/Advances+in+Financial+Machine+Learning-p-9781119482086\n",
    "    https://wwwf.imperial.ac.uk/~ejm/M3S8/Problems/hosking81.pdf\n",
    "    https://en.wikipedia.org/wiki/Fractional_calculus\n",
    "    The steps are as follows:\n",
    "    - Compute weights (this is a one-time exercise)\n",
    "    - Iteratively apply the weights to the price series and generate output points\n",
    "    Constant width window (new solution)\n",
    "    Note 1: thresh determines the cut-off weight for the window\n",
    "    Note 2: diff_amt can be any positive fractional, not necessarity bounded [0, 1].\n",
    "    :param series: (pd.Series)\n",
    "    :param diff_amt: (float) differencing amount\n",
    "    :param thresh: (float) threshold for minimum weight\n",
    "    :return: (pd.DataFrame) a data frame of differenced series\n",
    "    \"\"\"\n",
    "\n",
    "    # 1) Compute weights for the longest series\n",
    "    weights = get_weights_ffd(diff_amt, thresh, series.shape[0])\n",
    "    width = len(weights) - 1\n",
    "\n",
    "    # 2) Apply weights to values\n",
    "    # 2.1) Start by creating a dictionary to hold all the fractionally differenced series\n",
    "    output_df = {}\n",
    "\n",
    "    # 2.2) compute fractionally differenced series for each stock\n",
    "    series_f = series.fillna(method='ffill').dropna()\n",
    "    temp_df_ = pd.Series(index=series.index)\n",
    "    for iloc1 in range(width, series_f.shape[0]):\n",
    "        loc0 = series_f.index[iloc1 - width]\n",
    "        loc1 = series_f.index[iloc1]\n",
    "\n",
    "        # At this point all entries are non-NAs, hence no need for the following check\n",
    "        # if np.isfinite(series.loc[loc1, name]):\n",
    "        temp_df_[loc1] = np.dot(weights.T, series_f.loc[loc0:loc1])[0]\n",
    "\n",
    "    output_df = temp_df_.copy(deep=True)\n",
    "\n",
    "    return output_df"
   ]
  },
  {
   "cell_type": "code",
   "execution_count": 9,
   "metadata": {},
   "outputs": [],
   "source": [
    "# fdClosePrices = frac_diff_ffd(candles1Yr['close'], 0.35)"
   ]
  },
  {
   "cell_type": "code",
   "execution_count": 10,
   "metadata": {},
   "outputs": [],
   "source": [
    "# fdClosePrices.plot()"
   ]
  },
  {
   "cell_type": "code",
   "execution_count": 11,
   "metadata": {},
   "outputs": [],
   "source": [
    "def plot_min_ffd(close_prices):\n",
    "    out = pd.DataFrame(columns=['adfStat', 'pVal', 'lags', 'nObs', '95% conf', 'corr'])\n",
    "    for d in np.linspace(0, 1, 11):\n",
    "        df1 = np.log(close_prices[['close']])  # downcast to daily obs        \n",
    "        df1.dropna(inplace=True)\n",
    "        df2 = frac_diff_ffd(df1, diff_amt=d, thresh=0.01).dropna()\n",
    "        corr = np.corrcoef(df1.loc[df2.index, 'close'], df2)[0, 1]\n",
    "        df2 = adfuller(df2, maxlag=1, regression='c', autolag=None)\n",
    "        out.loc[d] = list(df2[:4]) + [df2[4]['5%']] + [corr]  # with critical value\n",
    "    out[['adfStat', 'corr']].plot(secondary_y='adfStat', figsize=(10, 8))\n",
    "    plt.axhline(out['95% conf'].mean(), linewidth=1, color='r', linestyle='dotted')\n",
    "    return"
   ]
  },
  {
   "cell_type": "code",
   "execution_count": 12,
   "metadata": {},
   "outputs": [],
   "source": [
    "# plot_min_ffd(candlesSmall.close.to_frame())"
   ]
  },
  {
   "cell_type": "markdown",
   "metadata": {},
   "source": [
    "## Train model"
   ]
  },
  {
   "cell_type": "code",
   "execution_count": 13,
   "metadata": {},
   "outputs": [],
   "source": [
    "basicCandles = candles1Yr.tail(math.floor(candles1Yr.shape[0] * 0.01)) # Use a subset of candle data\n",
    "# basicCandles = candles1Yr"
   ]
  },
  {
   "cell_type": "code",
   "execution_count": 14,
   "metadata": {},
   "outputs": [],
   "source": [
    "basicFracDiff = frac_diff_ffd(basicCandles['close'], 0.4)"
   ]
  },
  {
   "cell_type": "code",
   "execution_count": 15,
   "metadata": {},
   "outputs": [],
   "source": [
    "basicTEvents = getTEvents(basicFracDiff, 3)"
   ]
  },
  {
   "cell_type": "code",
   "execution_count": 16,
   "metadata": {},
   "outputs": [
    {
     "name": "stdout",
     "output_type": "stream",
     "text": [
      "<class 'pandas.core.series.Series'>\n",
      "<class 'numpy.float64'>\n"
     ]
    }
   ],
   "source": [
    "basicFracDiff.diff().loc['2019-11-05 23:58:30']\n",
    "print(type(basicFracDiff.diff()))\n",
    "print(type(basicFracDiff.diff().loc['2019-11-05 23:58:30']))"
   ]
  },
  {
   "cell_type": "code",
   "execution_count": 17,
   "metadata": {},
   "outputs": [],
   "source": [
    "basicClose = basicCandles['close']\n",
    "basicPtSl = 1\n",
    "basicCandlesCopy = basicCandles.copy(deep=True)\n",
    "basicCandlesCopy['targets'] = 0.05\n",
    "basicTrgt = basicCandlesCopy['targets']\n",
    "basicMinRet = 0.002\n",
    "basicNumThreads = 4\n",
    "\n",
    "basicT1 = basicClose.index.searchsorted(basicTEvents+pd.Timedelta(hours = 2))\n",
    "basicT1 = basicT1[basicT1<basicClose.shape[0]]\n",
    "basicT1 = pd.Series(basicClose.index[basicT1],index = basicTEvents[:basicT1.shape[0]]) # NaNs at end"
   ]
  },
  {
   "cell_type": "code",
   "execution_count": 33,
   "metadata": {},
   "outputs": [
    {
     "data": {
      "text/plain": [
       "time_reference\n",
       "2019-11-02 08:32:30    9203.4\n",
       "2019-11-02 08:33:00    9203.5\n",
       "2019-11-02 08:33:30    9207.7\n",
       "2019-11-02 08:34:00    9205.4\n",
       "2019-11-02 08:34:30    9202.5\n",
       "                        ...  \n",
       "2019-11-05 23:57:30    9302.6\n",
       "2019-11-05 23:58:00    9292.9\n",
       "2019-11-05 23:58:30    9293.7\n",
       "2019-11-05 23:59:00    9298.7\n",
       "2019-11-05 23:59:30    9304.2\n",
       "Name: close, Length: 10493, dtype: float64"
      ]
     },
     "execution_count": 33,
     "metadata": {},
     "output_type": "execute_result"
    }
   ],
   "source": [
    "basicTEvents\n",
    "basicClose"
   ]
  },
  {
   "cell_type": "code",
   "execution_count": 18,
   "metadata": {},
   "outputs": [
    {
     "name": "stderr",
     "output_type": "stream",
     "text": [
      "2019-12-19 13:12:43.471453 25.0% applyPtSlOnT1 done after 0.05 minutes. Remaining 0.15 minutes. \\ r2019-12-19 13:12:43.549136 50.0% applyPtSlOnT1 done after 0.05 minutes. Remaining 0.05 minutes. \\ r2019-12-19 13:12:43.602432 75.0% applyPtSlOnT1 done after 0.05 minutes. Remaining 0.02 minutes. \\ r2019-12-19 13:12:43.610380 100.0% applyPtSlOnT1 done after 0.05 minutes. Remaining 0.0 minutes. \\ n"
     ]
    }
   ],
   "source": [
    "basicEvents = getEvents(basicClose, basicTEvents, basicPtSl, basicTrgt, basicMinRet, basicNumThreads, basicT1)"
   ]
  },
  {
   "cell_type": "code",
   "execution_count": 19,
   "metadata": {},
   "outputs": [
    {
     "data": {
      "text/plain": [
       "(3160, 2)"
      ]
     },
     "execution_count": 19,
     "metadata": {},
     "output_type": "execute_result"
    }
   ],
   "source": [
    "basicEvents.shape"
   ]
  },
  {
   "cell_type": "code",
   "execution_count": 20,
   "metadata": {},
   "outputs": [],
   "source": [
    "basicBins = getBins(basicEvents, basicClose)\n",
    "# basicBins['bin'][abs(basicBins.ret) < basicMinRet] = 0 # Assign small returns to 0"
   ]
  },
  {
   "cell_type": "code",
   "execution_count": 21,
   "metadata": {},
   "outputs": [
    {
     "data": {
      "text/html": [
       "<div>\n",
       "<style scoped>\n",
       "    .dataframe tbody tr th:only-of-type {\n",
       "        vertical-align: middle;\n",
       "    }\n",
       "\n",
       "    .dataframe tbody tr th {\n",
       "        vertical-align: top;\n",
       "    }\n",
       "\n",
       "    .dataframe thead th {\n",
       "        text-align: right;\n",
       "    }\n",
       "</style>\n",
       "<table border=\"1\" class=\"dataframe\">\n",
       "  <thead>\n",
       "    <tr style=\"text-align: right;\">\n",
       "      <th></th>\n",
       "      <th>ret</th>\n",
       "      <th>bin</th>\n",
       "    </tr>\n",
       "  </thead>\n",
       "  <tbody>\n",
       "    <tr>\n",
       "      <td>2019-11-02 20:41:30</td>\n",
       "      <td>0.000032</td>\n",
       "      <td>0.0</td>\n",
       "    </tr>\n",
       "    <tr>\n",
       "      <td>2019-11-02 20:42:30</td>\n",
       "      <td>0.000172</td>\n",
       "      <td>0.0</td>\n",
       "    </tr>\n",
       "    <tr>\n",
       "      <td>2019-11-02 20:45:30</td>\n",
       "      <td>-0.000355</td>\n",
       "      <td>0.0</td>\n",
       "    </tr>\n",
       "    <tr>\n",
       "      <td>2019-11-02 20:48:00</td>\n",
       "      <td>-0.000602</td>\n",
       "      <td>0.0</td>\n",
       "    </tr>\n",
       "    <tr>\n",
       "      <td>2019-11-02 20:52:30</td>\n",
       "      <td>0.000000</td>\n",
       "      <td>0.0</td>\n",
       "    </tr>\n",
       "    <tr>\n",
       "      <td>...</td>\n",
       "      <td>...</td>\n",
       "      <td>...</td>\n",
       "    </tr>\n",
       "    <tr>\n",
       "      <td>2019-11-05 21:44:00</td>\n",
       "      <td>-0.002195</td>\n",
       "      <td>0.0</td>\n",
       "    </tr>\n",
       "    <tr>\n",
       "      <td>2019-11-05 21:46:30</td>\n",
       "      <td>-0.003105</td>\n",
       "      <td>0.0</td>\n",
       "    </tr>\n",
       "    <tr>\n",
       "      <td>2019-11-05 21:48:00</td>\n",
       "      <td>-0.003414</td>\n",
       "      <td>0.0</td>\n",
       "    </tr>\n",
       "    <tr>\n",
       "      <td>2019-11-05 21:49:00</td>\n",
       "      <td>-0.002012</td>\n",
       "      <td>0.0</td>\n",
       "    </tr>\n",
       "    <tr>\n",
       "      <td>2019-11-05 21:57:30</td>\n",
       "      <td>-0.004186</td>\n",
       "      <td>0.0</td>\n",
       "    </tr>\n",
       "  </tbody>\n",
       "</table>\n",
       "<p>3077 rows × 2 columns</p>\n",
       "</div>"
      ],
      "text/plain": [
       "                          ret  bin\n",
       "2019-11-02 20:41:30  0.000032  0.0\n",
       "2019-11-02 20:42:30  0.000172  0.0\n",
       "2019-11-02 20:45:30 -0.000355  0.0\n",
       "2019-11-02 20:48:00 -0.000602  0.0\n",
       "2019-11-02 20:52:30  0.000000  0.0\n",
       "...                       ...  ...\n",
       "2019-11-05 21:44:00 -0.002195  0.0\n",
       "2019-11-05 21:46:30 -0.003105  0.0\n",
       "2019-11-05 21:48:00 -0.003414  0.0\n",
       "2019-11-05 21:49:00 -0.002012  0.0\n",
       "2019-11-05 21:57:30 -0.004186  0.0\n",
       "\n",
       "[3077 rows x 2 columns]"
      ]
     },
     "execution_count": 21,
     "metadata": {},
     "output_type": "execute_result"
    }
   ],
   "source": [
    "basicBins.bin[basicBins.ret < basicMinRet] = 0\n",
    "basicBins"
   ]
  },
  {
   "cell_type": "code",
   "execution_count": 22,
   "metadata": {},
   "outputs": [],
   "source": [
    "from sklearn.model_selection import train_test_split\n",
    "\n",
    "basicX = basicFracDiff.loc[basicBins.index]\n",
    "# basicX = basicX.drop(columns='last_updated')\n",
    "basicy = basicBins.bin\n",
    "basicX_train, basicX_test, basicy_train, basicy_test = train_test_split(basicX, basicy, test_size=0.4, random_state=0)"
   ]
  },
  {
   "cell_type": "code",
   "execution_count": 23,
   "metadata": {},
   "outputs": [
    {
     "data": {
      "text/plain": [
       "SVC(C=1.0, cache_size=200, class_weight=None, coef0=0.0,\n",
       "    decision_function_shape='ovr', degree=3, gamma=1, kernel='rbf', max_iter=-1,\n",
       "    probability=False, random_state=None, shrinking=True, tol=0.001,\n",
       "    verbose=False)"
      ]
     },
     "execution_count": 23,
     "metadata": {},
     "output_type": "execute_result"
    }
   ],
   "source": [
    "basic_clf = svm.SVC(gamma=1)\n",
    "basic_clf.fit(basicX.to_frame(), basicy)"
   ]
  },
  {
   "cell_type": "code",
   "execution_count": 24,
   "metadata": {},
   "outputs": [
    {
     "data": {
      "text/plain": [
       "0.6974325641858954"
      ]
     },
     "execution_count": 24,
     "metadata": {},
     "output_type": "execute_result"
    }
   ],
   "source": [
    "basic_clf.score(basicX.to_frame(), basicy)"
   ]
  },
  {
   "cell_type": "code",
   "execution_count": 25,
   "metadata": {},
   "outputs": [],
   "source": [
    "# dump(basic_clf, 'basicsvm.joblib')"
   ]
  },
  {
   "cell_type": "code",
   "execution_count": 26,
   "metadata": {},
   "outputs": [],
   "source": [
    "# basic_clf = load('basicsvm.joblib')"
   ]
  },
  {
   "cell_type": "code",
   "execution_count": 27,
   "metadata": {},
   "outputs": [],
   "source": [
    "y_pred = basic_clf.predict(basicX_test.to_frame())"
   ]
  },
  {
   "cell_type": "code",
   "execution_count": 28,
   "metadata": {},
   "outputs": [
    {
     "data": {
      "text/plain": [
       "array([[848,  15],\n",
       "       [341,  27]])"
      ]
     },
     "execution_count": 28,
     "metadata": {},
     "output_type": "execute_result"
    }
   ],
   "source": [
    "from sklearn.metrics import confusion_matrix\n",
    "confusion_matrix(basicy_test, y_pred)"
   ]
  },
  {
   "cell_type": "code",
   "execution_count": 29,
   "metadata": {},
   "outputs": [
    {
     "data": {
      "text/plain": [
       "(1000, 1)"
      ]
     },
     "execution_count": 29,
     "metadata": {},
     "output_type": "execute_result"
    }
   ],
   "source": [
    "np.savetxt(\"fdWeights.data\", get_weights_ffd(0.4, 1e-5, 1000), delimiter=\",\", newline=\",\")\n",
    "get_weights_ffd(0.4, 1e-5, 1000).shape"
   ]
  },
  {
   "cell_type": "code",
   "execution_count": 30,
   "metadata": {
    "scrolled": true
   },
   "outputs": [
    {
     "data": {
      "text/plain": [
       "135.19365257149485"
      ]
     },
     "execution_count": 30,
     "metadata": {},
     "output_type": "execute_result"
    }
   ],
   "source": [
    "basicX_train.var()"
   ]
  },
  {
   "cell_type": "code",
   "execution_count": 31,
   "metadata": {},
   "outputs": [],
   "source": [
    "np.savetxt(\"supportVectors.data\", basic_clf.support_vectors_, delimiter=\",\", newline=\",\")\n",
    "np.savetxt(\"dualCoeffs.data\", basic_clf.dual_coef_.flatten(), delimiter=\",\", newline=\",\")"
   ]
  },
  {
   "cell_type": "code",
   "execution_count": null,
   "metadata": {},
   "outputs": [],
   "source": []
  }
 ],
 "metadata": {
  "kernelspec": {
   "display_name": "Python 3",
   "language": "python",
   "name": "python3"
  },
  "language_info": {
   "codemirror_mode": {
    "name": "ipython",
    "version": 3
   },
   "file_extension": ".py",
   "mimetype": "text/x-python",
   "name": "python",
   "nbconvert_exporter": "python",
   "pygments_lexer": "ipython3",
   "version": "3.7.4"
  }
 },
 "nbformat": 4,
 "nbformat_minor": 2
}