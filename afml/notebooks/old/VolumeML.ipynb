{
 "cells": [
  {
   "cell_type": "code",
   "execution_count": 33,
   "metadata": {},
   "outputs": [],
   "source": [
    "import sys\n",
    "sys.path.append(\"/home/ross/quantfin/lib\")\n",
    "\n",
    "%matplotlib inline \n",
    "import math\n",
    "import time\n",
    "from datetime import datetime\n",
    "import importlib\n",
    "import numpy as np # numerical computation packages in python\n",
    "import matplotlib.pyplot as plt # plotting routines\n",
    "import pandas as pd\n",
    "import multiprocessing as mp\n",
    "import AFMLlib as afml\n",
    "importlib.reload(afml) # Reload module in case it changed in interactive mode\n",
    "\n",
    "from statsmodels.tsa.stattools import adfuller\n",
    "from joblib import dump, load\n",
    "from sklearn import svm\n",
    "from sklearn.model_selection import train_test_split\n",
    "from sklearn.metrics import confusion_matrix\n",
    "from sklearn.ensemble import BaggingClassifier\n",
    "from joblib import dump, load"
   ]
  },
  {
   "cell_type": "markdown",
   "metadata": {},
   "outputs": [],
   "source": [
    "# Import Data"
   ]
  },
  {
   "cell_type": "code",
   "execution_count": 18,
   "metadata": {},
   "outputs": [],
   "source": [
    "colNames = [\"side\", \"readtime\", \"filltime\", \"volume\", \"price\"]\n",
    "rawTradesData = pd.read_csv('data/XXXX.csv', sep=',', index_col=1, names=colNames, parse_dates=[1, 2])"
   ]
  },
  {
   "cell_type": "code",
   "execution_count": 19,
   "metadata": {},
   "outputs": [
    {
     "data": {
      "text/plain": "(10970966, 4)"
     },
     "execution_count": 19,
     "metadata": {},
     "output_type": "execute_result"
    }
   ],
   "source": [
    "# Use a subset of the data\n",
    "tradesData = rawTradesData\n",
    "# tradesData = rawTradesData.head(math.floor(rawTradesData.shape[0] * 0.05)).sort_index()\n",
    "tradesData.shape"
   ]
  },
  {
   "cell_type": "code",
   "execution_count": 20,
   "metadata": {},
   "outputs": [
    {
     "data": {
      "text/html": "<div>\n<style scoped>\n    .dataframe tbody tr th:only-of-type {\n        vertical-align: middle;\n    }\n\n    .dataframe tbody tr th {\n        vertical-align: top;\n    }\n\n    .dataframe thead th {\n        text-align: right;\n    }\n</style>\n<table border=\"1\" class=\"dataframe\">\n  <thead>\n    <tr style=\"text-align: right;\">\n      <th></th>\n      <th>Open</th>\n      <th>High</th>\n      <th>Low</th>\n      <th>Close</th>\n      <th>Volume</th>\n    </tr>\n  </thead>\n  <tbody>\n    <tr>\n      <td>2019-07-01 00:00:01.000</td>\n      <td>10855.6</td>\n      <td>10861.8</td>\n      <td>10849.0</td>\n      <td>10849.0</td>\n      <td>5.103393</td>\n    </tr>\n    <tr>\n      <td>2019-07-01 00:00:06.000</td>\n      <td>10850.0</td>\n      <td>10858.0</td>\n      <td>10849.0</td>\n      <td>10853.7</td>\n      <td>12.572330</td>\n    </tr>\n    <tr>\n      <td>2019-07-01 00:00:18.000</td>\n      <td>10837.0</td>\n      <td>10856.8</td>\n      <td>10837.0</td>\n      <td>10856.8</td>\n      <td>8.856697</td>\n    </tr>\n    <tr>\n      <td>2019-07-01 00:00:25.029</td>\n      <td>10852.0</td>\n      <td>10853.3</td>\n      <td>10813.6</td>\n      <td>10836.7</td>\n      <td>5.192057</td>\n    </tr>\n    <tr>\n      <td>2019-07-01 00:00:40.002</td>\n      <td>10851.8</td>\n      <td>10853.3</td>\n      <td>10849.7</td>\n      <td>10851.9</td>\n      <td>6.096606</td>\n    </tr>\n    <tr>\n      <td>...</td>\n      <td>...</td>\n      <td>...</td>\n      <td>...</td>\n      <td>...</td>\n      <td>...</td>\n    </tr>\n    <tr>\n      <td>2019-10-16 13:51:18.000</td>\n      <td>7979.9</td>\n      <td>7981.4</td>\n      <td>7979.8</td>\n      <td>7981.3</td>\n      <td>10.355099</td>\n    </tr>\n    <tr>\n      <td>2019-10-16 13:52:44.000</td>\n      <td>7980.2</td>\n      <td>7981.3</td>\n      <td>7979.5</td>\n      <td>7980.2</td>\n      <td>5.889109</td>\n    </tr>\n    <tr>\n      <td>2019-10-16 13:54:00.000</td>\n      <td>7977.0</td>\n      <td>7980.6</td>\n      <td>7977.0</td>\n      <td>7980.3</td>\n      <td>7.535009</td>\n    </tr>\n    <tr>\n      <td>2019-10-16 13:55:21.004</td>\n      <td>7987.2</td>\n      <td>7987.3</td>\n      <td>7975.1</td>\n      <td>7976.4</td>\n      <td>5.411302</td>\n    </tr>\n    <tr>\n      <td>2019-10-16 13:56:49.000</td>\n      <td>7998.6</td>\n      <td>7998.7</td>\n      <td>7986.3</td>\n      <td>7987.1</td>\n      <td>5.012876</td>\n    </tr>\n  </tbody>\n</table>\n<p>243485 rows × 5 columns</p>\n</div>",
      "text/plain": "                            Open     High      Low    Close     Volume\n2019-07-01 00:00:01.000  10855.6  10861.8  10849.0  10849.0   5.103393\n2019-07-01 00:00:06.000  10850.0  10858.0  10849.0  10853.7  12.572330\n2019-07-01 00:00:18.000  10837.0  10856.8  10837.0  10856.8   8.856697\n2019-07-01 00:00:25.029  10852.0  10853.3  10813.6  10836.7   5.192057\n2019-07-01 00:00:40.002  10851.8  10853.3  10849.7  10851.9   6.096606\n...                          ...      ...      ...      ...        ...\n2019-10-16 13:51:18.000   7979.9   7981.4   7979.8   7981.3  10.355099\n2019-10-16 13:52:44.000   7980.2   7981.3   7979.5   7980.2   5.889109\n2019-10-16 13:54:00.000   7977.0   7980.6   7977.0   7980.3   7.535009\n2019-10-16 13:55:21.004   7987.2   7987.3   7975.1   7976.4   5.411302\n2019-10-16 13:56:49.000   7998.6   7998.7   7986.3   7987.1   5.012876\n\n[243485 rows x 5 columns]"
     },
     "execution_count": 20,
     "metadata": {},
     "output_type": "execute_result"
    }
   ],
   "source": [
    "# Create volume candles from raw fill data\n",
    "volCandles = afml.createVolumeCandles(tradesData, frequency=5)\n",
    "volCandles"
   ]
  },
  {
   "cell_type": "markdown",
   "metadata": {},
   "outputs": [],
   "source": [
    "# Extract Features "
   ]
  },
  {
   "cell_type": "code",
   "execution_count": 21,
   "metadata": {},
   "outputs": [
    {
     "data": {
      "text/plain": "2019-07-01 00:00:01.000           NaN\n2019-07-01 00:00:06.000           NaN\n2019-07-01 00:00:18.000           NaN\n2019-07-01 00:00:25.029           NaN\n2019-07-01 00:00:40.002           NaN\n                              ...    \n2019-10-16 13:51:18.000    750.572243\n2019-10-16 13:52:44.000    749.182603\n2019-10-16 13:54:00.000    749.339693\n2019-10-16 13:55:21.004    750.457366\n2019-10-16 13:56:49.000    747.089618\nLength: 243485, dtype: float64"
     },
     "execution_count": 21,
     "metadata": {},
     "output_type": "execute_result"
    }
   ],
   "source": [
    "# Fractional Differencing\n",
    "closePrices = volCandles.Close\n",
    "# closePrices = closePrices.apply(math.log)\n",
    "fracDiffClose = afml.frac_diff_ffd(closePrices, 0.35) # Fractionally differenced close prices\n",
    "fracDiffClose"
   ]
  },
  {
   "cell_type": "code",
   "execution_count": 22,
   "metadata": {},
   "outputs": [
    {
     "data": {
      "text/plain": "2019-07-01 00:00:01.000         NaN\n2019-07-01 00:00:06.000         NaN\n2019-07-01 00:00:18.000         NaN\n2019-07-01 00:00:25.029         NaN\n2019-07-01 00:00:40.002         NaN\n                             ...   \n2019-10-16 13:51:18.000   -0.200741\n2019-10-16 13:52:44.000   -0.189063\n2019-10-16 13:54:00.000   -0.176747\n2019-10-16 13:55:21.004   -0.162921\n2019-10-16 13:56:49.000   -0.149702\nLength: 243485, dtype: float64"
     },
     "execution_count": 22,
     "metadata": {},
     "output_type": "execute_result"
    }
   ],
   "source": [
    "# Entropy features\n",
    "\n",
    "# Rolling kurtosis of the fractionally differenced price\n",
    "fracDiffKurtosis = fracDiffClose.rolling(400).kurt()\n",
    "fracDiffKurtosis"
   ]
  },
  {
   "cell_type": "markdown",
   "metadata": {},
   "outputs": [],
   "source": [
    "# Sampling Events "
   ]
  },
  {
   "cell_type": "code",
   "execution_count": 23,
   "metadata": {},
   "outputs": [
    {
     "data": {
      "text/plain": "DatetimeIndex([       '2019-07-01 01:08:50',        '2019-07-01 01:09:00',\n                      '2019-07-01 01:09:11', '2019-07-01 01:09:44.001000',\n                      '2019-07-01 01:09:52', '2019-07-01 01:09:57.011000',\n               '2019-07-01 01:10:01.004000', '2019-07-01 01:10:05.002000',\n               '2019-07-01 01:10:40.006000', '2019-07-01 01:11:04.004000',\n               ...\n               '2019-10-16 13:20:42.004000',        '2019-10-16 13:21:16',\n                      '2019-10-16 13:24:59', '2019-10-16 13:30:02.004000',\n                      '2019-10-16 13:31:10',        '2019-10-16 13:31:24',\n                      '2019-10-16 13:32:38', '2019-10-16 13:35:59.001000',\n               '2019-10-16 13:41:59.005000',        '2019-10-16 13:48:55'],\n              dtype='datetime64[ns]', length=136961, freq=None)"
     },
     "execution_count": 23,
     "metadata": {},
     "output_type": "execute_result"
    }
   ],
   "source": [
    "cusumEvents = afml.getCUSUMEvents(fracDiffClose, 5) # Timestamps of CUSUM events\n",
    "cusumEvents"
   ]
  },
  {
   "cell_type": "markdown",
   "metadata": {},
   "outputs": [],
   "source": [
    "# Labeling events"
   ]
  },
  {
   "cell_type": "code",
   "execution_count": 24,
   "metadata": {},
   "outputs": [],
   "source": [
    "barrierWidth = 1 # Width of the top and bottom barriers\n",
    "volCandles['targets'] = 0.05\n",
    "targets = volCandles['targets'] # Target returns for each event\n",
    "minReturn = 0.01 # Minimum target return to run a triple barrier search\n",
    "numThreads = 10 # Number of processor threads to use\n",
    "\n",
    "# Series of timestamps for the third 'timeout' barriers\n",
    "timeBarriers = closePrices.index.searchsorted(cusumEvents+pd.Timedelta(hours = 4))\n",
    "timeBarriers = timeBarriers[timeBarriers<closePrices.shape[0]]\n",
    "timeBarriers = pd.Series(closePrices.index[timeBarriers],index = cusumEvents[:timeBarriers.shape[0]]) # NaNs at end"
   ]
  },
  {
   "cell_type": "code",
   "execution_count": 25,
   "metadata": {},
   "outputs": [
    {
     "name": "stderr",
     "output_type": "stream",
     "text": "2019-12-20 12:19:26.591082 100.0% applyPtSlOnT1 done after 6.47 minutes. Remaining 0.0 minutes.\n"
    }
   ],
   "source": [
    "# Calculate returns for each event\n",
    "events = afml.getEvents(closePrices, cusumEvents, barrierWidth, targets, minReturn, numThreads, timeBarriers)"
   ]
  },
  {
   "cell_type": "code",
   "execution_count": 26,
   "metadata": {},
   "outputs": [],
   "source": [
    "# Label events\n",
    "bins = afml.getBins(events, closePrices)\n",
    "bins.bin[bins.ret < minReturn] = 0"
   ]
  },
  {
   "cell_type": "markdown",
   "metadata": {},
   "outputs": [],
   "source": [
    "# Modelling"
   ]
  },
  {
   "cell_type": "code",
   "execution_count": 27,
   "metadata": {},
   "outputs": [],
   "source": [
    "# Split data into train and test\n",
    "X = pd.concat([fracDiffClose, fracDiffKurtosis], axis=1)\n",
    "X = X.loc[bins.index]\n",
    "X = X[~np.isnan(X).any(axis=1)]\n",
    "y = bins.loc[X.index].bin\n",
    "\n",
    "X_train, X_test, y_train, y_test = train_test_split(X, y, test_size=0.4, random_state=0)"
   ]
  },
  {
   "cell_type": "code",
   "execution_count": 28,
   "metadata": {},
   "outputs": [
    {
     "data": {
      "text/plain": "SVC(C=1.0, cache_size=200, class_weight=None, coef0=0.0,\n    decision_function_shape='ovr', degree=3, gamma=0.1, kernel='rbf',\n    max_iter=-1, probability=False, random_state=None, shrinking=True,\n    tol=0.001, verbose=False)"
     },
     "execution_count": 28,
     "metadata": {},
     "output_type": "execute_result"
    }
   ],
   "source": [
    "# Train SVM\n",
    "clf = svm.SVC(gamma=0.1,kernel='rbf',C=1.0)\n",
    "clf.fit(X_train, y_train)"
   ]
  },
  {
   "cell_type": "code",
   "execution_count": 29,
   "metadata": {},
   "outputs": [
    {
     "name": "stdout",
     "output_type": "stream",
     "text": "[[41519   391]\n [12104   593]]\n0.6026422764227642\n"
    }
   ],
   "source": [
    "y_pred = clf.predict(X_test)\n",
    "cm = confusion_matrix(y_test, y_pred)\n",
    "score = cm[1,1] / (cm[0,1] + cm[1,1])\n",
    "print(cm)\n",
    "print(score)"
   ]
  },
  {
   "cell_type": "code",
   "execution_count": 43,
   "metadata": {},
   "outputs": [
    {
     "data": {
      "text/plain": "BaggingClassifier(base_estimator=SVC(C=1.0, cache_size=200, class_weight=None,\n                                     coef0=0.0, decision_function_shape='ovr',\n                                     degree=3, gamma=0.1, kernel='rbf',\n                                     max_iter=-1, probability=False,\n                                     random_state=123, shrinking=True,\n                                     tol=0.001, verbose=False),\n                  bootstrap=True, bootstrap_features=False, max_features=1.0,\n                  max_samples=1.0, n_estimators=10, n_jobs=4, oob_score=False,\n                  random_state=42, verbose=0, warm_start=False)"
     },
     "execution_count": 43,
     "metadata": {},
     "output_type": "execute_result"
    }
   ],
   "source": [
    "# Ensemble\n",
    "baggingSVM = svm.SVC(gamma=0.1, kernel='rbf', C=1.0, random_state=123)\n",
    "ensembleModel = BaggingClassifier(base_estimator=baggingSVM, n_estimators=10, n_jobs=4, random_state=42)\n",
    "ensembleModel.fit(X_train, y_train)"
   ]
  },
  {
   "cell_type": "code",
   "execution_count": 44,
   "metadata": {},
   "outputs": [
    {
     "name": "stdout",
     "output_type": "stream",
     "text": "[[41553   357]\n [12143   554]]\n0.6081229418221734\n"
    }
   ],
   "source": [
    "y_pred = ensembleModel.predict(X_test)\n",
    "cm = confusion_matrix(y_test, y_pred)\n",
    "score = cm[1,1] / (cm[0,1] + cm[1,1])\n",
    "print(cm)\n",
    "print(score)"
   ]
  },
  {
   "cell_type": "code",
   "execution_count": 47,
   "metadata": {},
   "outputs": [
    {
     "data": {
      "text/plain": "['wc16.joblib']"
     },
     "execution_count": 47,
     "metadata": {},
     "output_type": "execute_result"
    }
   ],
   "source": [
    "# Save model\n",
    "dump(ensembleModel, 'VolumeML.joblib')"
   ]
  },
  {
   "cell_type": "code",
   "execution_count": 0,
   "metadata": {},
   "outputs": [],
   "source": [
    "# Cross Validation"
   ]
  },
  {
   "cell_type": "markdown",
   "metadata": {},
   "outputs": [],
   "source": [
    "# Backtesting"
   ]
  }
 ],
 "metadata": {
  "kernelspec": {
   "display_name": "Python 3",
   "language": "python",
   "name": "python3"
  },
  "language_info": {
   "codemirror_mode": {
    "name": "ipython",
    "version": 3
   },
   "file_extension": ".py",
   "mimetype": "text/x-python",
   "name": "python",
   "nbconvert_exporter": "python",
   "pygments_lexer": "ipython3",
   "version": "3.7.4"
  }
 },
 "nbformat": 4,
 "nbformat_minor": 2
}